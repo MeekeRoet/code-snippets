{
 "cells": [
  {
   "cell_type": "markdown",
   "metadata": {},
   "source": [
    "# Notebook overview\n",
    "- Author: ...\n",
    "- Date: ...\n",
    "\n",
    "## Instructions for use\n",
    "- Name your notebook \n",
    "```${ticket_nr}_${main_purpose}.ipynb```, \n",
    "\n",
    "- To keep the repository small:\n",
    "    - Generate HTML of this notebook to save the outputs. Store those HTMLs on Git LFS.\n",
    "    - Remove outputs from ipynb files before committing.\n",
    "\n",
    "## Motivation/problem statement\n",
    "- Why does this document exist?\n",
    "- Who asked for it?\n",
    "- What is being done?\n",
    "\n",
    "## Conclusions\n",
    "- ...\n",
    "\n",
    "## Actions\n",
    "- ...\n",
    "\n",
    "## Inputs\n",
    "- List of input files\n",
    "\n",
    "## Outputs\n",
    "- List of notebook produced files"
   ]
  },
  {
   "cell_type": "markdown",
   "metadata": {},
   "source": [
    "# Imports & preamble"
   ]
  },
  {
   "cell_type": "code",
   "execution_count": null,
   "metadata": {},
   "outputs": [],
   "source": [
    "import sys\n",
    "import os\n",
    "\n",
    "import matplotlib.pyplot as plt\n",
    "import pandas as pd\n",
    "import numpy as np\n",
    "\n",
    "print(\"python\", sys.version)\n",
    "print(\"pandas\", pd.__version__)\n",
    "print(\"numpy\", np.__version__)\n",
    "\n",
    "# For plotting graphs inline\n",
    "%matplotlib inline\n",
    "plt.style.use('ggplot')\n",
    "\n",
    "# Auto-reloading imports on external change. Re-import is necessary though.\n",
    "%load_ext autoreload\n",
    "%autoreload 2\n",
    "\n",
    "# Modify this path to the notebook folder location\n",
    "if os.getcwd().endswith('notebooks'):\n",
    "    os.chdir('../')\n",
    "    sys.path.append('./src')\n",
    "\n",
    "pd.options.display.max_columns = 999\n",
    "pd.options.display.max_rows = 50"
   ]
  },
  {
   "cell_type": "markdown",
   "metadata": {},
   "source": [
    "# Global variables"
   ]
  },
  {
   "cell_type": "code",
   "execution_count": null,
   "metadata": {},
   "outputs": [],
   "source": []
  },
  {
   "cell_type": "markdown",
   "metadata": {},
   "source": [
    "# Data loading \n",
    "- Show `df.head(2)` of every dataframe.\n",
    "- For PySpark DataFrames also write `printSchema()`."
   ]
  },
  {
   "cell_type": "code",
   "execution_count": null,
   "metadata": {},
   "outputs": [],
   "source": []
  },
  {
   "cell_type": "markdown",
   "metadata": {},
   "source": [
    "# Data preparation\n",
    "- Any modifications the data needs for this specific notebook."
   ]
  },
  {
   "cell_type": "code",
   "execution_count": null,
   "metadata": {},
   "outputs": [],
   "source": []
  },
  {
   "cell_type": "markdown",
   "metadata": {},
   "source": [
    "# Contents - Do the work\n",
    "- This is specific to every notebook.\n",
    "- Write the notebook as if it was a blogpost or an article.\n",
    "- Write lots of markdown.\n",
    "- Use markdown sections, subsections when necessary (#, ##, ###, ####, ...)\n",
    "- When working with figures, save pretty plots as `.pdf` and `.png` file.\n",
    "\n",
    "Some guidelines on imports:\n",
    "- import code in the cell where you use the import.\n",
    "- include the library or module in the import for a handy breadcrumb trail: `library.method()`\n",
    "- if sourcing project code, use the production code base as much as possible\n",
    "- if using notebook specific functions, use an accompanying notebook-specific python script with a list of functions and methods. Import with `import accompanying_file as af`.\n"
   ]
  },
  {
   "cell_type": "code",
   "execution_count": null,
   "metadata": {},
   "outputs": [],
   "source": []
  },
  {
   "cell_type": "markdown",
   "metadata": {},
   "source": [
    "# Serialize notebook\n",
    "- Automatically export notebook contents to python script (for easy differencing in Git repo) and HTML (for easy viewing)."
   ]
  },
  {
   "cell_type": "code",
   "execution_count": null,
   "metadata": {},
   "outputs": [],
   "source": [
    "%%javascript\n",
    "IPython.notebook.save_notebook()\n",
    "IPython.notebook.kernel.execute('nb_name = \"' + IPython.notebook.notebook_name + '\"')"
   ]
  },
  {
   "cell_type": "code",
   "execution_count": null,
   "metadata": {},
   "outputs": [],
   "source": [
    "!jupyter nbconvert --to script $nb_name\n",
    "!jupyter nbconvert --to html $nb_name"
   ]
  },
  {
   "cell_type": "code",
   "execution_count": null,
   "metadata": {},
   "outputs": [],
   "source": []
  }
 ],
 "metadata": {
  "kernelspec": {
   "display_name": "Python 3",
   "language": "python",
   "name": "python3"
  },
  "language_info": {
   "codemirror_mode": {
    "name": "ipython",
    "version": 3
   },
   "file_extension": ".py",
   "mimetype": "text/x-python",
   "name": "python",
   "nbconvert_exporter": "python",
   "pygments_lexer": "ipython3",
   "version": "3.8.3"
  }
 },
 "nbformat": 4,
 "nbformat_minor": 2
}
