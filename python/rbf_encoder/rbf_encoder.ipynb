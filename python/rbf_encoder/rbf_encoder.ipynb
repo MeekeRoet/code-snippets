{
 "cells": [
  {
   "cell_type": "code",
   "execution_count": null,
   "metadata": {},
   "outputs": [],
   "source": [
    "import numpy as np\n",
    "import pandas as pd\n",
    "import matplotlib.pyplot as plt"
   ]
  },
  {
   "cell_type": "code",
   "execution_count": null,
   "metadata": {},
   "outputs": [],
   "source": [
    "dates = pd.date_range('2018-01-01', '2018-12-31')\n",
    "X = pd.Series(dates).dt.dayofyear  # Create X to be day of the year.\n",
    "X.index = dates\n",
    "print(X.head())"
   ]
  },
  {
   "cell_type": "code",
   "execution_count": null,
   "metadata": {},
   "outputs": [],
   "source": [
    "from sklearn.base import BaseEstimator\n",
    "from sklearn.pipeline import TransformerMixin\n",
    "from sklearn.metrics.pairwise import rbf_kernel\n",
    "\n",
    "\n",
    "class RBFencoder(TransformerMixin, BaseEstimator):\n",
    "    def __init__(self, gamma, centers, max_observed_value=None):\n",
    "        self.gamma = gamma\n",
    "        self.centers = np.array(centers).reshape(-1, 1)\n",
    "\n",
    "        if max_observed_value:\n",
    "            self.max_observed_value = max_observed_value\n",
    "        else:\n",
    "            self.max_observed_value = max(centers)\n",
    "\n",
    "    def transform(self, X, y=None):\n",
    "        direct = rbf_kernel(X=X.values.reshape(-1, 1),\n",
    "                            Y=self.centers, gamma=self.gamma)\n",
    "        right = rbf_kernel(X=X.values.reshape(-1, 1) +\n",
    "                           self.max_observed_value, Y=self.centers, gamma=self.gamma)\n",
    "        left = rbf_kernel(X=X.values.reshape(-1, 1) -\n",
    "                          self.max_observed_value, Y=self.centers, gamma=self.gamma)\n",
    "\n",
    "        rbf_values = np.maximum.reduce([direct, right, left])        \n",
    "        return rbf_values\n",
    "\n",
    "    def fit(self, X, y):\n",
    "        return self"
   ]
  },
  {
   "cell_type": "code",
   "execution_count": null,
   "metadata": {},
   "outputs": [],
   "source": [
    "# Space twelve centers over the year to represent the months.\n",
    "month_centers = np.round(np.linspace(15, 350, 12)).astype(int).tolist()\n",
    "print(f'Centers: {month_centers}')\n",
    "print(f'Number of centers: {len(month_centers)}')\n",
    "\n",
    "encoder = RBFencoder(gamma=0.005, centers=month_centers, max_observed_value=365)\n",
    "rbf_features = encoder.transform(X)\n",
    "\n",
    "print(f'X shape: {X.shape}')\n",
    "print(f'Output shape: {rbf_features.shape}')\n",
    "\n",
    "print(f'\\nSample output features:\\n{rbf_features[:2]}')\n",
    "\n",
    "# Alternatively:\n",
    "# from sklearn.pipeline import make_pipeline\n",
    "# ppl = make_pipeline(RBFencoder(gamma=0.0005, centers=month_centers, max_observed_value=365))\n",
    "# ppl.transform(X)"
   ]
  },
  {
   "cell_type": "code",
   "execution_count": null,
   "metadata": {},
   "outputs": [],
   "source": [
    "plt.figure(figsize=(15, 5))\n",
    "\n",
    "plot_features = rbf_features\n",
    "# Make features sum to 1:\n",
    "# plot_features = rbf_features / np.sum(rbf_features, axis=1).reshape(rbf_features.shape[0], 1)\n",
    "\n",
    "for i in range(len(month_centers)):\n",
    "    plt.scatter(X, plot_features[:, i], label=f'Proximity to day {month_centers[i]}', s=5)\n",
    "plt.xlabel('Observed day of year')\n",
    "plt.ylabel('Feature value')\n",
    "plt.legend(loc='right')\n",
    "plt.show()"
   ]
  },
  {
   "cell_type": "code",
   "execution_count": null,
   "metadata": {},
   "outputs": [],
   "source": [
    "from sklearn.utils import check_array\n",
    "from sklearn.utils.validation import check_is_fitted\n",
    "\n",
    "class RepeatingBasisFunction(TransformerMixin, BaseEstimator):\n",
    "    \"\"\"Accepts X which has exactly one column\"\"\"\n",
    "    def __init__(self, periods=12, modulo=365):\n",
    "        self.periods = periods\n",
    "        self.modulo = modulo\n",
    "\n",
    "    def fit(self, X, y=None):\n",
    "        \"\"\"Fits the estimator\"\"\"\n",
    "        X = check_array(X, estimator=self)\n",
    "        # This transformer only accepts one feature as input\n",
    "        if X.shape[1] != 1:\n",
    "            raise ValueError(f'X should have exactly one column, it has: {X.shape[1]}')\n",
    "\n",
    "        # last element is excluded because the distance between 0 and modulo is 0, so they're very close\n",
    "        self.bases_ = np.linspace(0, self.modulo, self.periods+1)[:-1]\n",
    "\n",
    "        # curves should be wider for longer windows and narrower if we have more curves\n",
    "        self.width_ = (self.modulo / self.periods)\n",
    "\n",
    "        return self\n",
    "\n",
    "    def transform(self, X):\n",
    "        check_is_fitted(self, ['bases_', 'width_'])\n",
    "        X = check_array(X, estimator=self)\n",
    "        # This transformer only accepts one feature as input\n",
    "        # This transformer only accepts one feature as input\n",
    "        if X.shape[1] != 1:\n",
    "            raise ValueError(f'X should have exactly one column, it has: {X.shape[1]}')\n",
    "\n",
    "        # get array\n",
    "        if type(X) == pd.DataFrame:\n",
    "            X = X.values\n",
    "\n",
    "        X = X % self.modulo\n",
    "\n",
    "        base_offsets = self._cycle_apply(X, self.bases_, self.modulo)\n",
    "\n",
    "        # apply rbf function to series for each basis\n",
    "        return self._rbf(base_offsets)\n",
    "\n",
    "    def _cycle_dist(self, arr: np.ndarray, base: float, modulo: float) -> np.ndarray:\n",
    "        \"\"\"Calculates the absolute difference between values in array and base,\n",
    "        where 0 and modulo are assumed to be at the same position\"\"\"\n",
    "\n",
    "        abs_diff = np.abs(arr - base)\n",
    "        alt = modulo-abs_diff\n",
    "        concat = np.concatenate((abs_diff.reshape(-1, 1), alt.reshape(-1, 1)), axis=1)\n",
    "        final = concat.min(axis=1)\n",
    "        return final\n",
    "\n",
    "    def _cycle_apply(self, array, bases, modulo):\n",
    "        array = array.reshape(-1, 1)\n",
    "        bases = bases.reshape(1, -1)\n",
    "\n",
    "        return np.apply_along_axis(lambda b: self._cycle_dist(array, base=b, modulo=modulo),\n",
    "                                   axis=0,\n",
    "                                   arr=bases)\n",
    "\n",
    "    def _rbf(self, arr):\n",
    "        return np.exp(-(arr/self.width_)**2)"
   ]
  },
  {
   "cell_type": "code",
   "execution_count": null,
   "metadata": {},
   "outputs": [],
   "source": [
    "import timeit"
   ]
  },
  {
   "cell_type": "code",
   "execution_count": null,
   "metadata": {},
   "outputs": [],
   "source": [
    "def f(X):\n",
    "    encoder = RBFencoder(gamma=0.005, centers=month_centers, max_observed_value=365)\n",
    "    return encoder.transform(X)\n",
    "\n",
    "%timeit for x in range(100): f(X)"
   ]
  },
  {
   "cell_type": "code",
   "execution_count": null,
   "metadata": {},
   "outputs": [],
   "source": [
    "def g(X):\n",
    "    encoder = RepeatingBasisFunction(periods=12, modulo=365)\n",
    "    encoder.fit(X)\n",
    "    return encoder.transform(X)\n",
    "\n",
    "X_2d = np.array(X).reshape(-1, 1)\n",
    "\n",
    "%timeit for x in range(100): g(X_2d)"
   ]
  },
  {
   "cell_type": "code",
   "execution_count": null,
   "metadata": {},
   "outputs": [],
   "source": []
  }
 ],
 "metadata": {
  "kernelspec": {
   "display_name": "Python 3",
   "language": "python",
   "name": "python3"
  },
  "language_info": {
   "codemirror_mode": {
    "name": "ipython",
    "version": 3
   },
   "file_extension": ".py",
   "mimetype": "text/x-python",
   "name": "python",
   "nbconvert_exporter": "python",
   "pygments_lexer": "ipython3",
   "version": "3.8.3"
  },
  "toc": {
   "base_numbering": 1,
   "nav_menu": {},
   "number_sections": true,
   "sideBar": true,
   "skip_h1_title": false,
   "title_cell": "Table of Contents",
   "title_sidebar": "Contents",
   "toc_cell": false,
   "toc_position": {},
   "toc_section_display": true,
   "toc_window_display": false
  }
 },
 "nbformat": 4,
 "nbformat_minor": 2
}
